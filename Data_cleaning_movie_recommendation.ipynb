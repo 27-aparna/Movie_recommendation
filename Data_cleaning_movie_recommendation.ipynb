
# Import required libraries
import pandas as pd

# File paths for the datasets
movies_file = "/content/drive/MyDrive/movies.csv"
ratings_file = "/content/drive/MyDrive/ratings_cleaned.csv"

# Step 1: Data Acquisition
# Load the datasets into pandas DataFrames
movies = pd.read_csv(movies_file)
ratings = pd.read_csv(ratings_file)
# Step 2: Preview the Data
print("Movies Dataset Preview:")
print(movies.head())
print("\nRatings Dataset Preview:")
print(ratings.head())
Movies Dataset Preview:
   movieId                         title  \
0    42594       Scream and Scream Again   
1   280133                         Jenny   
2   225155      The Adventures of Gerard   
3    85255      ...tick...tick...tick...   
4   117999  Last of the Mobile Hot Shots   

                                       cast_and_crew  year  \
0  Gordon Hessler (director); Christopher Wicking...  1970   
1  George Bloomfield (director/screenplay); Marti...  1970   
2  Jerzy Skolimowski (director/screenplay); Arthu...  1970   
3  Ralph Nelson (director); James Lee Barrett (sc...  1970   
4  Sidney Lumet (director); Gore Vidal (screenpla...  1970   

                        poster_path                     genre  
0  /49m9QJ2ubKuVtdDj9B7XqgCyriv.jpg   Horror, Science Fiction  
1  /iaJ0PyRh17KoMcUlXxTVu6Vi85s.jpg            Drama, Romance  
2  /aoOV7vWvGiNjaUTHCSIEAeHSvOw.jpg  Adventure, Comedy, Drama  
3  /rBNgytHXZEXgOl805pYWKiBQe7s.jpg             Drama, Action  
4  /xj5Rub6H5B9yMh6GL3oomOM1SLg.jpg                     Drama  

Ratings Dataset Preview:
   movieId  userId  rating
0    42594       0     6.0
1    42594       1     5.0
2    65891       2     7.0
3    11202       3     9.0
4    11202       4     9.0
# Step 3: Check for Missing Values
print("\nChecking for Missing Values:")
print("Movies Missing Values:\n", movies.isnull().sum())
print("\nRatings Missing Values:\n", ratings.isnull().sum())
Checking for Missing Values:
Movies Missing Values:
 movieId           0
title             0
cast_and_crew     0
year              0
poster_path      35
genre             0
dtype: int64

Ratings Missing Values:
 movieId    0
userId     0
rating     0
dtype: int64
# Step 4: Handling Missing Values
# If missing values exist, handle them (e.g., drop or fill)
if movies.isnull().sum().sum() > 0:
    print("\nHandling missing values in 'movies' dataset...")
    movies.dropna(inplace=True)  # Drop rows with missing values
if ratings.isnull().sum().sum() > 0:
    print("\nHandling missing values in 'ratings' dataset...")
    ratings.dropna(inplace=True)  # Drop rows with missing values
Handling missing values in 'movies' dataset...
# Step 5: Check for Duplicates
print("\nChecking for Duplicates:")
print("Duplicate Rows in Movies:", movies.duplicated().sum())
print("Duplicate Rows in Ratings:", ratings.duplicated().sum())
Checking for Duplicates:
Duplicate Rows in Movies: 0
Duplicate Rows in Ratings: 0
# Step 6: Data Type Validation
print("\nValidating Data Types:")
print("Movies Data Types:\n", movies.dtypes)
print("\nRatings Data Types:\n", ratings.dtypes)
Validating Data Types:
Movies Data Types:
 movieId           int64
title            object
cast_and_crew    object
year              int64
poster_path      object
genre            object
dtype: object

Ratings Data Types:
 movieId      int64
userId       int64
rating     float64
dtype: object
# Step 7: Ensuring Consistent Keys
# Check for movies in the ratings dataset that are not in the movies dataset
print("\nEnsuring consistency between datasets:")
movies_in_ratings = ratings['movieId'].isin(movies['movieId'])
if not movies_in_ratings.all():
    print(f"Removing {(~movies_in_ratings).sum()} ratings for movies not found in the 'movies' dataset...")
    ratings = ratings[movies_in_ratings]
Ensuring consistency between datasets:
# Final Preview of Cleaned Data
print("\nCleaned Movies Dataset:")
print(movies.info())
print("\nCleaned Ratings Dataset:")
print(ratings.info())
Cleaned Movies Dataset:
<class 'pandas.core.frame.DataFrame'>
Index: 11470 entries, 0 to 11504
Data columns (total 6 columns):
 #   Column         Non-Null Count  Dtype 
---  ------         --------------  ----- 
 0   movieId        11470 non-null  int64 
 1   title          11470 non-null  object
 2   cast_and_crew  11470 non-null  object
 3   year           11470 non-null  int64 
 4   poster_path    11470 non-null  object
 5   genre          11470 non-null  object
dtypes: int64(2), object(4)
memory usage: 627.3+ KB
None

Cleaned Ratings Dataset:
<class 'pandas.core.frame.DataFrame'>
RangeIndex: 11674 entries, 0 to 11673
Data columns (total 3 columns):
 #   Column   Non-Null Count  Dtype  
---  ------   --------------  -----  
 0   movieId  11674 non-null  int64  
 1   userId   11674 non-null  int64  
 2   rating   11674 non-null  float64
dtypes: float64(1), int64(2)
memory usage: 273.7 KB
None
# Save the cleaned datasets for further use
movies.to_csv("/content/drive/MyDrive/movies.csv", index=False)
ratings.to_csv("/content/drive/MyDrive/ratings.csv", index=False)
print("\nCleaned datasets saved ")
Cleaned datasets saved 
